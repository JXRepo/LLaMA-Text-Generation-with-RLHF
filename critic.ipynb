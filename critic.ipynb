{
 "cells": [
  {
   "cell_type": "code",
   "execution_count": 1,
   "id": "01f23638",
   "metadata": {},
   "outputs": [
    {
     "data": {
      "text/plain": [
       "(tensor([   2, 1139,  708,    1]), tensor([1, 1, 1, 1]), '<bos>how are<eos>')"
      ]
     },
     "execution_count": 1,
     "metadata": {},
     "output_type": "execute_result"
    }
   ],
   "source": [
    "import torch\n",
    "\n",
    "from util import TokenizerUtil\n",
    "\n",
    "tokenizer = TokenizerUtil()\n",
    "\n",
    "input_ids, attention_mask = tokenizer.encode('how are you', max_length=4)\n",
    "\n",
    "input_ids, attention_mask, tokenizer.decode(input_ids)"
   ]
  },
  {
   "cell_type": "code",
   "execution_count": 2,
   "id": "85e428b1",
   "metadata": {},
   "outputs": [
    {
     "data": {
      "application/vnd.jupyter.widget-view+json": {
       "model_id": "9c1680e767b74ab9b58c124f9388ccc4",
       "version_major": 2,
       "version_minor": 0
      },
      "text/plain": [
       "Map:   0%|          | 0/15000 [00:00<?, ? examples/s]"
      ]
     },
     "metadata": {},
     "output_type": "display_data"
    },
    {
     "data": {
      "text/plain": [
       "(3750, dict_keys(['input_ids', 'attention_mask']))"
      ]
     },
     "execution_count": 2,
     "metadata": {},
     "output_type": "execute_result"
    }
   ],
   "source": [
    "from datasets import load_dataset\n",
    "\n",
    "dataset = load_dataset('json', data_files='dataset/train.json', split='train')\n",
    "\n",
    "#4,2,4切分,取第1部分\n",
    "dataset = dataset.select(range(30000, 45000))\n",
    "\n",
    "\n",
    "def f(data):\n",
    "    #区分两种生成结果\n",
    "    chosen = data['prompt'] + data['chosen'].swapcase()\n",
    "    rejected = data['prompt'] + data['chosen']\n",
    "\n",
    "    chosen_input_ids, chosen_attention_mask = tokenizer.encode(chosen)\n",
    "    rejected_input_ids, rejected_attention_mask = tokenizer.encode(rejected)\n",
    "\n",
    "    return {\n",
    "        'chosen_input_ids': chosen_input_ids,\n",
    "        'chosen_attention_mask': chosen_attention_mask,\n",
    "        'rejected_input_ids': rejected_input_ids,\n",
    "        'rejected_attention_mask': rejected_attention_mask,\n",
    "    }\n",
    "\n",
    "\n",
    "dataset = dataset.map(f)\n",
    "\n",
    "dataset.set_format('torch')\n",
    "\n",
    "\n",
    "def f(data):\n",
    "    chosen_input_ids = [i['chosen_input_ids'] for i in data]\n",
    "    chosen_attention_mask = [i['chosen_attention_mask'] for i in data]\n",
    "    rejected_input_ids = [i['rejected_input_ids'] for i in data]\n",
    "    rejected_attention_mask = [i['rejected_attention_mask'] for i in data]\n",
    "\n",
    "    input_ids = torch.stack(chosen_input_ids + rejected_input_ids, dim=0)\n",
    "    attention_mask = torch.stack(chosen_attention_mask +\n",
    "                                 rejected_attention_mask,\n",
    "                                 dim=0)\n",
    "\n",
    "    return {'input_ids': input_ids, 'attention_mask': attention_mask}\n",
    "\n",
    "\n",
    "loader = torch.utils.data.DataLoader(dataset,\n",
    "                                     collate_fn=f,\n",
    "                                     batch_size=4,\n",
    "                                     shuffle=True,\n",
    "                                     drop_last=True)\n",
    "\n",
    "len(loader), next(iter(loader)).keys()"
   ]
  },
  {
   "cell_type": "code",
   "execution_count": 3,
   "id": "dfa4c50a",
   "metadata": {
    "scrolled": true
   },
   "outputs": [],
   "source": [
    "#%run 1.model.ipynb\n",
    "%run 1.model_gemma2.ipynb\n",
    "\n",
    "\n",
    "class CriticModel(torch.nn.Module):\n",
    "\n",
    "    def __init__(self):\n",
    "        super().__init__()\n",
    "\n",
    "        self.rwtransformer = LlamaModel()\n",
    "\n",
    "        #换模型的时候,这个数字要改一下.用llama3时改成1024\n",
    "        self.v_head = torch.nn.Linear(576, 1, bias=False)\n",
    "\n",
    "    def forward(self, input_ids, attention_mask):\n",
    "        value = self.rwtransformer(input_ids=input_ids,\n",
    "                                   attention_mask=attention_mask)\n",
    "\n",
    "        value = self.v_head(value).squeeze(-1)\n",
    "\n",
    "        loss_sum = 0.0\n",
    "        value_chosen_sum = 0.0\n",
    "        value_rejected_sum = 0.0\n",
    "        for input_ids_chosen, input_ids_rejected, value_chosen, value_rejected in zip(\n",
    "                input_ids[:4], input_ids[4:], value[:4], value[4:]):\n",
    "\n",
    "            #找出每条回答中的起止索引\n",
    "            end_chosen = input_ids_chosen.tolist().index(\n",
    "                tokenizer.eos_token_id) + 1\n",
    "            end_rejected = input_ids_rejected.tolist().index(\n",
    "                tokenizer.eos_token_id) + 1\n",
    "            end = max(end_chosen, end_rejected)\n",
    "\n",
    "            start = end - 1\n",
    "            if not (input_ids_chosen == input_ids_rejected).all():\n",
    "                start = (input_ids_chosen == input_ids_rejected\n",
    "                         ).tolist().index(False)\n",
    "\n",
    "            value_chosen = value_chosen[start:end]\n",
    "            value_rejected = value_rejected[start:end]\n",
    "\n",
    "            loss = value_chosen - value_rejected\n",
    "            loss = -torch.nn.functional.logsigmoid(loss).mean()\n",
    "\n",
    "            loss_sum += loss\n",
    "            value_chosen_sum += value_chosen.mean().item()\n",
    "            value_rejected_sum += value_rejected.mean().item()\n",
    "\n",
    "        return loss_sum / 4, value_chosen_sum, value_rejected_sum\n",
    "\n",
    "\n",
    "model_critic = CriticModel()"
   ]
  },
  {
   "cell_type": "code",
   "execution_count": 4,
   "id": "adb14bab",
   "metadata": {},
   "outputs": [
    {
     "name": "stderr",
     "output_type": "stream",
     "text": [
      "Detected kernel version 3.10.0, which is below the recommended minimum of 5.5.0; this can cause the process to hang. It is recommended to upgrade the kernel to the minimum version or higher.\n"
     ]
    }
   ],
   "source": [
    "from accelerate import Accelerator\n",
    "\n",
    "model_critic.train()\n",
    "\n",
    "optimizer = torch.optim.Adam(model_critic.parameters(), lr=5e-5)\n",
    "\n",
    "accelerator = Accelerator(mixed_precision='fp16')\n",
    "\n",
    "loader, model_critic, optimizer = accelerator.prepare(loader, model_critic,\n",
    "                                                      optimizer)"
   ]
  },
  {
   "cell_type": "code",
   "execution_count": 5,
   "id": "7838daa6",
   "metadata": {
    "scrolled": false
   },
   "outputs": [
    {
     "name": "stdout",
     "output_type": "stream",
     "text": [
      "0 3750 0.6953125 0.7353515625 0.29979515075683594\n",
      "100 3750 0.0036773681640625 14.0625 -16.330078125\n",
      "200 3750 0.0005950927734375 15.017578125 -21.12109375\n",
      "300 3750 0.0002713203430175781 17.578125 -22.16015625\n",
      "400 3750 0.00020897388458251953 18.609375 -20.2890625\n",
      "500 3750 0.000514984130859375 19.26171875 -20.86328125\n",
      "600 3750 0.0001304149627685547 18.62890625 -21.9375\n",
      "700 3750 0.00020122528076171875 19.0625 -22.0703125\n",
      "800 3750 0.00011712312698364258 19.07421875 -21.11328125\n",
      "900 3750 0.00011962652206420898 19.4765625 -23.65234375\n",
      "1000 3750 0.00023543834686279297 19.6953125 -22.43359375\n",
      "1100 3750 9.256601333618164e-05 20.734375 -22.06640625\n",
      "1200 3750 0.0002968311309814453 20.15234375 -23.5390625\n",
      "1300 3750 0.00021505355834960938 19.875 -23.1796875\n",
      "1400 3750 0.00010675191879272461 20.78125 -24.28515625\n",
      "1500 3750 0.001422882080078125 20.0 -22.27734375\n",
      "1600 3750 4.750490188598633e-05 21.078125 -23.58203125\n",
      "1700 3750 6.389617919921875e-05 20.85546875 -23.3203125\n",
      "1800 3750 4.89354133605957e-05 20.92578125 -24.4140625\n",
      "1900 3750 0.17333984375 11.74609375 -25.48046875\n",
      "2000 3750 3.2842159271240234e-05 21.40234375 -24.8203125\n",
      "2100 3750 3.2842159271240234e-05 21.765625 -24.0625\n",
      "2200 3750 5.167722702026367e-05 21.2109375 -22.421875\n",
      "2300 3750 2.1696090698242188e-05 23.109375 -22.6484375\n",
      "2400 3750 1.4603137969970703e-05 22.8125 -25.0078125\n",
      "2500 3750 1.4960765838623047e-05 22.921875 -24.16796875\n",
      "2600 3750 3.1948089599609375e-05 22.3046875 -24.2421875\n",
      "2700 3750 1.7523765563964844e-05 23.4453125 -25.421875\n",
      "2800 3750 1.3232231140136719e-05 23.2109375 -27.796875\n",
      "2900 3750 1.055002212524414e-05 23.88671875 -26.7578125\n",
      "3000 3750 1.2159347534179688e-05 23.86328125 -25.15234375\n",
      "3100 3750 1.2576580047607422e-05 23.8203125 -25.1796875\n",
      "3200 3750 1.5020370483398438e-05 23.48046875 -25.51171875\n",
      "3300 3750 1.3470649719238281e-05 23.71484375 -27.08984375\n",
      "3400 3750 2.4080276489257812e-05 23.3671875 -26.3125\n",
      "3500 3750 3.635883331298828e-05 22.8828125 -26.2421875\n",
      "3600 3750 3.1828880310058594e-05 23.73828125 -24.7890625\n",
      "3700 3750 1.2874603271484375e-05 24.15234375 -27.0703125\n"
     ]
    }
   ],
   "source": [
    "for i, data in enumerate(loader):\n",
    "    loss, value_chosen_sum, value_rejected_sum = model_critic(**data)\n",
    "    accelerator.backward(loss)\n",
    "    accelerator.clip_grad_norm_(model_critic.parameters(), 1.0)\n",
    "    optimizer.step()\n",
    "    optimizer.zero_grad()\n",
    "\n",
    "    if i % 100 == 0:\n",
    "        print(i, len(loader), loss.item(), value_chosen_sum,\n",
    "              value_rejected_sum)\n",
    "\n",
    "torch.save(model_critic.to('cpu'), 'model/critic')"
   ]
  }
 ],
 "metadata": {
  "kernelspec": {
   "display_name": "Python [conda env:cuda117]",
   "language": "python",
   "name": "conda-env-cuda117-py"
  },
  "language_info": {
   "codemirror_mode": {
    "name": "ipython",
    "version": 3
   },
   "file_extension": ".py",
   "mimetype": "text/x-python",
   "name": "python",
   "nbconvert_exporter": "python",
   "pygments_lexer": "ipython3",
   "version": "3.10.13"
  }
 },
 "nbformat": 4,
 "nbformat_minor": 5
}

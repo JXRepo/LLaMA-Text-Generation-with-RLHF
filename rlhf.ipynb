{
 "cells": [
  {
   "cell_type": "code",
   "execution_count": 1,
   "id": "11abe3e8",
   "metadata": {},
   "outputs": [
    {
     "data": {
      "text/plain": [
       "(tensor([   0,    0,    2, 1139,  708,  692]),\n",
       " tensor([0, 0, 1, 1, 1, 1]),\n",
       " '<pad><pad><bos>how are you')"
      ]
     },
     "execution_count": 1,
     "metadata": {},
     "output_type": "execute_result"
    }
   ],
   "source": [
    "import torch\n",
    "\n",
    "prompt_lens = 128\n",
    "gen_lens = prompt_lens + 128\n",
    "\n",
    "from util import TokenizerUtil\n",
    "\n",
    "tokenizer = TokenizerUtil()\n",
    "\n",
    "input_ids, _ = tokenizer.encode('how are you', max_length=6)\n",
    "\n",
    "input_ids, attention_mask = tokenizer.pad_to_left(input_ids)\n",
    "\n",
    "input_ids, attention_mask, tokenizer.decode(input_ids)"
   ]
  },
  {
   "cell_type": "code",
   "execution_count": 2,
   "id": "835db30b",
   "metadata": {
    "scrolled": true
   },
   "outputs": [
    {
     "data": {
      "text/plain": [
       "(7144, dict_keys(['input_ids', 'attention_mask']))"
      ]
     },
     "execution_count": 2,
     "metadata": {},
     "output_type": "execute_result"
    }
   ],
   "source": [
    "from datasets import load_dataset\n",
    "from transformers import default_data_collator\n",
    "\n",
    "dataset = load_dataset('json', data_files='dataset/train.json', split='train')\n",
    "\n",
    "#2,4,4切分,取最后一部分\n",
    "dataset = dataset.select(range(45000, len(dataset)))\n",
    "\n",
    "\n",
    "def f(data):\n",
    "    input_ids, _ = tokenizer.encode(data['prompt'], max_length=prompt_lens)\n",
    "    input_ids, attention_mask = tokenizer.pad_to_left(input_ids)\n",
    "\n",
    "    return {'input_ids': input_ids, 'attention_mask': attention_mask}\n",
    "\n",
    "\n",
    "dataset = dataset.map(f, remove_columns=dataset.column_names)\n",
    "\n",
    "loader = torch.utils.data.DataLoader(dataset,\n",
    "                                     collate_fn=default_data_collator,\n",
    "                                     batch_size=4,\n",
    "                                     shuffle=True,\n",
    "                                     drop_last=True)\n",
    "\n",
    "len(loader), next(iter(loader)).keys()"
   ]
  },
  {
   "cell_type": "code",
   "execution_count": 3,
   "id": "781c336d",
   "metadata": {},
   "outputs": [],
   "source": [
    "#%run 1.model.ipynb\n",
    "%run 1.model_gemma2.ipynb\n",
    "\n",
    "model_actor = torch.load('model/actor')\n",
    "model_actor.train()\n",
    "\n",
    "optimizer_actor = torch.optim.Adam(model_actor.parameters(), lr=2e-6)"
   ]
  },
  {
   "cell_type": "code",
   "execution_count": 4,
   "id": "bdd68dee",
   "metadata": {},
   "outputs": [],
   "source": [
    "class CriticModel(torch.nn.Module):\n",
    "\n",
    "    def __init__(self):\n",
    "        super().__init__()\n",
    "        self.rwtransformer = None\n",
    "        self.v_head = None\n",
    "\n",
    "    def get_value(self, input_ids, attention_mask):\n",
    "        value = self.rwtransformer(input_ids=input_ids,\n",
    "                                   attention_mask=attention_mask)\n",
    "        return self.v_head(value).squeeze(2)\n",
    "\n",
    "    def get_reward(self, input_ids, attention_mask):\n",
    "        value = self.get_value(input_ids, attention_mask)\n",
    "\n",
    "        reward = []\n",
    "        for i, v in zip(input_ids, value):\n",
    "            end = input_ids.shape[1] - 1\n",
    "            if tokenizer.eos_token_id in i:\n",
    "                end = i.tolist().index(tokenizer.eos_token_id)\n",
    "            reward.append(v[end])\n",
    "        reward = torch.stack(reward)\n",
    "\n",
    "        return reward\n",
    "\n",
    "\n",
    "model_critic = torch.load('model/critic')\n",
    "model_critic.train()\n",
    "\n",
    "optimizer_critic = torch.optim.Adam(model_critic.parameters(), lr=5e-5)"
   ]
  },
  {
   "cell_type": "code",
   "execution_count": 5,
   "id": "17b9d356",
   "metadata": {},
   "outputs": [
    {
     "name": "stderr",
     "output_type": "stream",
     "text": [
      "Detected kernel version 3.10.0, which is below the recommended minimum of 5.5.0; this can cause the process to hang. It is recommended to upgrade the kernel to the minimum version or higher.\n"
     ]
    }
   ],
   "source": [
    "from accelerate import Accelerator\n",
    "\n",
    "model_ref = torch.load('model/actor')\n",
    "model_reward = torch.load('model/critic')\n",
    "\n",
    "model_ref.eval()\n",
    "model_reward.eval()\n",
    "\n",
    "accelerator = Accelerator(gradient_accumulation_steps=8,\n",
    "                          mixed_precision='fp16')\n",
    "\n",
    "(loader, model_actor, optimizer_actor, model_critic, optimizer_critic,\n",
    " model_ref, model_reward) = accelerator.prepare(loader, model_actor,\n",
    "                                                optimizer_actor, model_critic,\n",
    "                                                optimizer_critic, model_ref,\n",
    "                                                model_reward)"
   ]
  },
  {
   "cell_type": "code",
   "execution_count": 6,
   "id": "4e94ae45",
   "metadata": {},
   "outputs": [
    {
     "name": "stdout",
     "output_type": "stream",
     "text": [
      "select count(POPULATION__KM_2_) from TABLE_12584173_1 where POPULATION__SOUTH__KM_ = 2132<eos>\n",
      "================\n",
      "select max(GOALS_FOR) from TABLE_NAME_26 where LOST = 25<eos>\n",
      "================\n",
      "SELECT result FROM table_name_23 WHERE location = \"1-0\" AND score = \"1-0\"<eos>\n",
      "================\n",
      "SELECT eliminated AS nd_leg FROM table_25016824_2 WHERE eliminated = \"8-1\"<eos>\n",
      "================\n"
     ]
    }
   ],
   "source": [
    "from util import get_generate as get_generate_util\n",
    "\n",
    "\n",
    "def get_generate(input_ids):\n",
    "    generate = get_generate_util(model_actor,\n",
    "                                 input_ids,\n",
    "                                 tokenizer.eos_token_id,\n",
    "                                 tokenizer.pad_token_id,\n",
    "                                 max_length=gen_lens)\n",
    "    lens = (generate[:, prompt_lens:] != tokenizer.pad_token_id).sum(1)\n",
    "    return generate[lens > 1]\n",
    "\n",
    "\n",
    "data = next(iter(loader))\n",
    "\n",
    "for i in get_generate(data['input_ids']):\n",
    "    print(tokenizer.decode(i[prompt_lens:]))\n",
    "    print('================')"
   ]
  },
  {
   "cell_type": "code",
   "execution_count": 7,
   "id": "8687059d",
   "metadata": {},
   "outputs": [
    {
     "data": {
      "text/plain": [
       "torch.Size([4, 123])"
      ]
     },
     "execution_count": 7,
     "metadata": {},
     "output_type": "execute_result"
    }
   ],
   "source": [
    "def get_prob(prob, index):\n",
    "    prob = prob.log_softmax(dim=2)\n",
    "    prob = prob.gather(dim=2, index=index.unsqueeze(2))\n",
    "    return prob.squeeze(2)\n",
    "\n",
    "\n",
    "get_prob(torch.randn(4, 123, 999), torch.randint(0, 999, (4, 123))).shape"
   ]
  },
  {
   "cell_type": "code",
   "execution_count": 8,
   "id": "4d7d1d4b",
   "metadata": {},
   "outputs": [
    {
     "data": {
      "text/plain": [
       "(torch.Size([4, 165]),\n",
       " torch.Size([4, 165]),\n",
       " torch.Size([4, 164]),\n",
       " torch.Size([4, 164]),\n",
       " torch.Size([4, 164]),\n",
       " torch.Size([4]))"
      ]
     },
     "execution_count": 8,
     "metadata": {},
     "output_type": "execute_result"
    }
   ],
   "source": [
    "last_generate = None\n",
    "cache_count = 0\n",
    "\n",
    "\n",
    "@torch.no_grad()\n",
    "def get_batch(input_ids, attention_mask):\n",
    "    #input_ids -> [b, prompt_lens]\n",
    "    #attention_mask -> [b, prompt_lens]\n",
    "    global last_generate\n",
    "    global cache_count\n",
    "\n",
    "    #根据问题生成回答\n",
    "    #[b, gen_lens]\n",
    "    generate = get_generate(input_ids)\n",
    "\n",
    "    #制作缓存,防止所有回答为空的情况\n",
    "    if len(generate):\n",
    "        last_generate = generate\n",
    "    else:\n",
    "        generate = last_generate\n",
    "        cache_count += 1\n",
    "\n",
    "    #[b, gen_lens]\n",
    "    generate_mask = (generate != tokenizer.pad_token_id).long()\n",
    "\n",
    "    #两个模型分别取回答被预测到的概率\n",
    "    #[b, gen_lens-1]\n",
    "    _, prob_old = model_actor(input_ids=generate, attention_mask=generate_mask)\n",
    "    prob_old = get_prob(prob_old[:, :-1], generate[:, 1:])\n",
    "\n",
    "    #取每个词的value\n",
    "    #[b, gen_lens-1]\n",
    "    value_old = model_critic.get_value(generate, generate_mask)[:, :-1]\n",
    "\n",
    "    #[b, gen_lens-1]\n",
    "    _, prob_ref = model_ref(input_ids=generate, attention_mask=generate_mask)\n",
    "    prob_ref = get_prob(prob_ref[:, :-1], generate[:, 1:])\n",
    "\n",
    "    #取回答的分数\n",
    "    #[b]\n",
    "    reward = model_reward.get_reward(generate, generate_mask)\n",
    "\n",
    "    return generate, generate_mask, prob_old, prob_ref, value_old, reward\n",
    "\n",
    "\n",
    "generate, generate_mask, prob_old, prob_ref, value_old, reward = get_batch(\n",
    "    **data)\n",
    "\n",
    "generate.shape, generate_mask.shape, prob_old.shape, prob_ref.shape, value_old.shape, reward.shape"
   ]
  },
  {
   "cell_type": "code",
   "execution_count": 9,
   "id": "fb227950",
   "metadata": {},
   "outputs": [
    {
     "data": {
      "text/plain": [
       "torch.Size([4, 164])"
      ]
     },
     "execution_count": 9,
     "metadata": {},
     "output_type": "execute_result"
    }
   ],
   "source": [
    "def get_reward_kl(end, prob_old, prob_ref, reward):\n",
    "    #prob_old -> [b, gen_lens-1]\n",
    "    #prob_ref -> [b, gen_lens-1]\n",
    "    #reward -> [b]\n",
    "\n",
    "    #两份预测概率求kl散度\n",
    "    #[b, gen_lens-1]\n",
    "    reward_kl = -0.1 * (prob_old - prob_ref)\n",
    "\n",
    "    #把原本的reward加在kl散度的最后一个字上\n",
    "    for i, e in enumerate(end):\n",
    "        if e >= reward_kl.shape[1]:\n",
    "            e = -1\n",
    "        reward_kl[i, e] += reward[i].clamp(-5, 5)\n",
    "\n",
    "    #[b, gen_lens-1]\n",
    "    return reward_kl\n",
    "\n",
    "\n",
    "end = generate_mask[:, prompt_lens:].sum(1) + prompt_lens - 1\n",
    "end = end.tolist()\n",
    "\n",
    "reward_kl = get_reward_kl(end, prob_old, prob_ref, reward)\n",
    "\n",
    "reward_kl.shape"
   ]
  },
  {
   "cell_type": "code",
   "execution_count": 10,
   "id": "cf23aae7",
   "metadata": {},
   "outputs": [
    {
     "data": {
      "text/plain": [
       "torch.Size([4, 37])"
      ]
     },
     "execution_count": 10,
     "metadata": {},
     "output_type": "execute_result"
    }
   ],
   "source": [
    "#解释见原版代码中的get_delta_note函数\n",
    "def get_delta(value_old, reward_kl):\n",
    "    #value_old -> [b, gen_lens-1]\n",
    "    #reward_kl -> [b, gen_lens-1]\n",
    "\n",
    "    #gen_lens-2 -> prompt_lens-1\n",
    "    delta = []\n",
    "    for i in reversed(range(prompt_lens - 1, value_old.shape[1])):\n",
    "        #[b]\n",
    "        value_next = 0.0\n",
    "        if i != value_old.shape[1] - 1:\n",
    "            value_next = value_old[:, i + 1]\n",
    "\n",
    "        #[b]\n",
    "        d = reward_kl[:, i] + value_next - value_old[:, i]\n",
    "        if len(delta):\n",
    "            d += 0.95 * delta[-1]\n",
    "        delta.append(d)\n",
    "\n",
    "    #[b, gen_lens-prompt_lens]\n",
    "    delta = torch.stack(delta[::-1], dim=1)\n",
    "\n",
    "    return delta\n",
    "\n",
    "\n",
    "delta = get_delta(value_old, reward_kl)\n",
    "\n",
    "delta.shape"
   ]
  },
  {
   "cell_type": "code",
   "execution_count": 11,
   "id": "9cf1bcf7",
   "metadata": {},
   "outputs": [
    {
     "data": {
      "text/plain": [
       "tensor(0.9077, device='cuda:0')"
      ]
     },
     "execution_count": 11,
     "metadata": {},
     "output_type": "execute_result"
    }
   ],
   "source": [
    "def get_loss_actor(prob_new, prob_old, delta, generate_mask):\n",
    "    prob_new = prob_new[:, prompt_lens - 1:]\n",
    "    prob_old = prob_old[:, prompt_lens - 1:]\n",
    "    generate_mask = generate_mask[:, prompt_lens:]\n",
    "\n",
    "    #prob_new -> [b, gen_lens-prompt_lens]\n",
    "    #prob_old -> [b, gen_lens-prompt_lens]\n",
    "    #delta -> [b, gen_lens-prompt_lens]\n",
    "    #generate_mask -> [b, gen_lens-prompt_lens]\n",
    "\n",
    "    #对数概率,求差就是求商,所以这里求的是新旧概率的变化率\n",
    "    #[b, gen_lens-prompt_lens]\n",
    "    ratio = ((prob_new - prob_old) * generate_mask).exp()\n",
    "\n",
    "    #delta是估计出来的去基线Q值,以变化率来缩放Q值\n",
    "    #最大化Q值,以此来寻找最优的actor\n",
    "    #裁剪,防止自举\n",
    "    #[b, gen_lens-prompt_lens]\n",
    "    loss1 = delta * ratio\n",
    "    loss2 = delta * ratio.clamp(0.8, 1.2)\n",
    "    loss = torch.min(loss1, loss2) * generate_mask\n",
    "    loss = loss.sum() / generate_mask.sum()\n",
    "    return -loss\n",
    "\n",
    "\n",
    "loss_actor = get_loss_actor(prob_old, prob_old, delta, generate_mask)\n",
    "\n",
    "loss_actor"
   ]
  },
  {
   "cell_type": "code",
   "execution_count": 12,
   "id": "c9a4db24",
   "metadata": {},
   "outputs": [
    {
     "data": {
      "text/plain": [
       "tensor(5.1135, device='cuda:0')"
      ]
     },
     "execution_count": 12,
     "metadata": {},
     "output_type": "execute_result"
    }
   ],
   "source": [
    "def get_loss_critic(value_new, value_old, delta, generate_mask):\n",
    "    value_new = value_new[:, prompt_lens - 1:]\n",
    "    value_old = value_old[:, prompt_lens - 1:]\n",
    "    generate_mask = generate_mask[:, prompt_lens:]\n",
    "\n",
    "    #value_new -> [b, gen_lens-prompt_lens]\n",
    "    #value_old -> [b, gen_lens-prompt_lens]\n",
    "    #delta -> [b, gen_lens-prompt_lens]\n",
    "    #generate_mask -> [b, gen_lens-prompt_lens]\n",
    "\n",
    "    #delta是估计出来的去基线Q值,加上value_old后还原为Q值\n",
    "    #value_new和Q值求mse loss即可,因为value都是对Q函数的估计\n",
    "    #裁剪,防止自举\n",
    "    #[b, gen_lens-prompt_lens]\n",
    "    loss1 = (value_new - delta - value_old)**2\n",
    "    value_new = value_new.clamp(value_old - 0.2, value_old + 0.2)\n",
    "    loss2 = (value_new - delta - value_old)**2\n",
    "\n",
    "    #求平均\n",
    "    loss = torch.max(loss1, loss2) * generate_mask\n",
    "    loss = loss.sum() / 2 / generate_mask.sum()\n",
    "\n",
    "    return loss\n",
    "\n",
    "\n",
    "loss_critic = get_loss_critic(value_old, value_old, delta, generate_mask)\n",
    "\n",
    "loss_critic"
   ]
  },
  {
   "cell_type": "code",
   "execution_count": 13,
   "id": "825b4816",
   "metadata": {},
   "outputs": [
    {
     "data": {
      "text/plain": [
       "(0.3602048456668854, 1.5423953533172607)"
      ]
     },
     "execution_count": 13,
     "metadata": {},
     "output_type": "execute_result"
    }
   ],
   "source": [
    "def train(generate, generate_mask, prob_old, prob_ref, value_old, reward):\n",
    "    #generate -> [b, gen_lens]\n",
    "    #generate_mask -> [b, gen_lens]\n",
    "    #prob_old -> [b, gen_lens-1]\n",
    "    #prob_ref -> [b, gen_lens-1]\n",
    "    #value_old -> [b, gen_lens-1]\n",
    "    #reward -> [b]\n",
    "\n",
    "    #求出每句话结束的索引\n",
    "    #[b]\n",
    "    end = generate_mask[:, prompt_lens:].sum(1) + prompt_lens - 1\n",
    "    end = end.tolist()\n",
    "\n",
    "    #结束以后的value归零\n",
    "    for i, e in enumerate(end):\n",
    "        value_old[i, e + 1:] = 0\n",
    "\n",
    "    with torch.no_grad():\n",
    "        #计算新旧概率的kl散度,再把reward加在最后一个字上\n",
    "        #[b, gen_lens-1]\n",
    "        reward_kl = get_reward_kl(end, prob_old, prob_ref, reward)\n",
    "\n",
    "        #估计去基线的Q值\n",
    "        #[b, gen_lens-prompt_lens]\n",
    "        delta = get_delta(value_old, reward_kl)\n",
    "\n",
    "    #重新计算回答被生成的概率\n",
    "    #[b, gen_lens-1]\n",
    "    _, prob_new = model_actor(input_ids=generate, attention_mask=generate_mask)\n",
    "    prob_new = get_prob(prob_new[:, :-1], generate[:, 1:])\n",
    "\n",
    "    #重新计算每个词的value\n",
    "    #[b, gen_lens-1]\n",
    "    value_new = model_critic.get_value(input_ids=generate,\n",
    "                                       attention_mask=generate_mask)[:, :-1]\n",
    "\n",
    "    with accelerator.accumulate(model_actor, model_critic):\n",
    "        #更新actor\n",
    "        loss_actor = get_loss_actor(prob_new, prob_old, delta, generate_mask)\n",
    "        accelerator.backward(loss_actor)\n",
    "        if accelerator.sync_gradients:\n",
    "            accelerator.clip_grad_norm_(model_actor.parameters(), 1.0)\n",
    "        optimizer_actor.step()\n",
    "        optimizer_actor.zero_grad()\n",
    "\n",
    "        #更新critic\n",
    "        loss_critic = get_loss_critic(value_new, value_old, delta,\n",
    "                                      generate_mask)\n",
    "        accelerator.backward(loss_critic)\n",
    "        if accelerator.sync_gradients:\n",
    "            accelerator.clip_grad_norm_(model_critic.parameters(), 1.0)\n",
    "        optimizer_critic.step()\n",
    "        optimizer_critic.zero_grad()\n",
    "\n",
    "    return loss_actor.item(), loss_critic.item()\n",
    "\n",
    "\n",
    "train(generate, generate_mask, prob_old, prob_ref, value_old, reward)"
   ]
  },
  {
   "cell_type": "code",
   "execution_count": 14,
   "id": "4bd3e547",
   "metadata": {
    "scrolled": true
   },
   "outputs": [
    {
     "name": "stdout",
     "output_type": "stream",
     "text": [
      "0 7144 0.7449347972869873 2.1149866580963135 4.167113780975342 0\n",
      "Human: context= CREATE TABLE table_name_94 (top_25 INTEGER, events VARCHAR, wins VARCHAR) question= What is the lowest Top-25 that has 3 Events and Wins greater than 0? Assistant:select min(TOP_25) from TABLE_NAME_94 where WINS = 3 and WINS > 0<eos>\n",
      "100 7144 0.23885589838027954 0.20784251391887665 4.051708698272705 0\n",
      "Human: context= CREATE TABLE table_name_71 (rider VARCHAR, time_retired VARCHAR, laps VARCHAR, grid VARCHAR) question= Who was the rider for laps less than 23 with grid greater than 21 that had a time of +1 lap? Assistant:select RIDER from TABLE_NAME_71 where TIME_RETIRED = \"+1\" and GRID < 21 and TIME_RETIRED = \"+1\"<eos>\n",
      "200 7144 -0.06361590325832367 0.05183442309498787 4.187600612640381 0\n",
      "Human: context= CREATE TABLE table_name_34 (date VARCHAR, circuit VARCHAR, winning_manufacturer VARCHAR) question= What was the date of Circuit Hockenheimring and the winning manufacturer being Mercedes-Benz? Assistant:select DATE from TABLE_NAME_34 where CIRCUIT = \"ALCA-SA\" and WINNING_DRIVER = \"ALIFORNIA\"<eos>\n",
      "300 7144 0.025833137333393097 0.03532220795750618 4.15915060043335 0\n",
      "Human: context= CREATE TABLE table_23308178_8 (record VARCHAR, points VARCHAR) question= How many games did they play with 88 points? Assistant:select count(RECORD) from TABLE_23308178_8 where POINTS = 88<eos>\n",
      "400 7144 0.018114285543560982 0.036710191518068314 4.123420715332031 0\n",
      "Human: context= CREATE TABLE table_11622392_1 (purse__ INTEGER) question= What is the sum of the largest purse? Assistant:select max(SEATS) from TABLE_11622392_1<eos>\n",
      "500 7144 -0.0059344153851270676 0.04226934537291527 4.16377592086792 0\n",
      "Human: context= CREATE TABLE Rating (title VARCHAR, mID VARCHAR); CREATE TABLE Movie (title VARCHAR, mID VARCHAR) question= Find the titles of all movies that have no ratings. Assistant:select TITLE from sTUDENT where not rOOMS = 'aRT' order by sTUDENT<eos>\n",
      "600 7144 0.014521894045174122 0.010641437955200672 4.101881504058838 0\n",
      "Human: context= CREATE TABLE table_27708484_3 (matches_played VARCHAR, average_goals_scored_per_match VARCHAR) question= how many matches were played that average goals scored 1.25? Assistant:select count(MATCH_PLAYED) from TABLE_27708484_3 where AVERAGE_PLAYED_PLAYED_PER_MATCH = \"1.25\"<eos>\n",
      "700 7144 -0.028258023783564568 0.032192498445510864 4.132706165313721 0\n",
      "Human: context= CREATE TABLE table_12194021_1 (womens_doubles VARCHAR, season VARCHAR) question= Who won the womens doubles in 2002? Assistant:select WOMENS_DOUBLES from TABLE_12194021_1 where SEASON = \"2002\"<eos>\n",
      "800 7144 -0.009777403436601162 0.010773377493023872 4.191300868988037 0\n",
      "Human: context= CREATE TABLE table_name_7 (goals INTEGER, player VARCHAR, games VARCHAR) question= Which Goals have a Player of david mcllwain, and Games larger than 52? Assistant:select avg(GOALS) from TABLE_NAME_7 where PLAYER = \"JIMMY DAME\" and GAMES > 52<eos>\n",
      "900 7144 0.031860094517469406 0.016141291707754135 4.138956546783447 0\n",
      "Human: context= CREATE TABLE table_name_67 (year INTEGER, final_position___tour VARCHAR, final_position___vuelta VARCHAR) question= What is the average year that has a final Tour position of 54 and a final Vuelta position over 55? Assistant:select avg(YEAR_POSITION) from TABLE_NAME_67 where FINAL_POSITION___$__ = 54 and FINAL_POSITION___$__ > 55<eos>\n",
      "1000 7144 0.009148585610091686 0.015445748344063759 4.148666858673096 0\n",
      "Human: context= CREATE TABLE table_18710512_3 (record_label VARCHAR, single VARCHAR) question= What record label corresponds to the single \"I can't stay\"? Assistant:select LABEL from TABLE_18710512_3 where LABEL = \"sOUTH cOLLEGE\"<eos>\n",
      "1100 7144 -0.00727765541523695 0.012299383990466595 4.135519504547119 0\n",
      "Human: context= CREATE TABLE table_name_65 (form_factor VARCHAR, capacities__gb_ VARCHAR) question= What form factor has capacities at 60/120/180/240? Assistant:select PASSING_EN_EN_EN from TABLE_NAME_65 where SEATS = \"60/120/240\"<eos>\n",
      "1200 7144 0.017712164670228958 0.0024987361393868923 4.140982151031494 0\n",
      "Human: context= CREATE TABLE table_1341395_22 (result VARCHAR, incumbent VARCHAR) question= How many times was the incumbent mike capuano Assistant:select count(RESULT) from TABLE_1341395_22 where INCUMBENT = \"sOUTH cOLLEGE\"<eos>\n",
      "1300 7144 -0.001332962536253035 0.008884009905159473 4.184162139892578 0\n",
      "Human: context= CREATE TABLE table_name_97 (country VARCHAR, notes VARCHAR, rank VARCHAR) question= What country has a rank of 3 and notes of r? Assistant:select COUNTRY from TABLE_NAME_97 where NOTES = \"3\" and RANK = \"R\"<eos>\n",
      "1400 7144 -0.023702610284090042 0.00535972323268652 4.138071537017822 0\n",
      "Human: context= CREATE TABLE table_27332038_1 (directed_by VARCHAR, written_by VARCHAR) question= who directed the episode that elaine ko wrote? Assistant:select DIRECTED_BY from TABLE_27332038_1 where WRITTEN_BY = \"jANUARY 3\"<eos>\n",
      "1500 7144 0.020171452313661575 0.001718561863526702 4.1056389808654785 0\n",
      "Human: context= CREATE TABLE table_name_85 (runner_up VARCHAR, tier VARCHAR, winner VARCHAR) question= When Gigi Fernández Natalia Zvereva 6–2, 6–1 won, who was the Tier II Runner-up? Assistant:select RUNNER_UP from TABLE_NAME_85 where TIED = \"TIGER-FERRARI 6–2, 6–1\" and TIED = \"CLAY\"<eos>\n",
      "1600 7144 -0.023447725921869278 0.0030484406743198633 4.1825785636901855 0\n",
      "Human: context= CREATE TABLE table_23097214_1 (directed_by VARCHAR, season__number VARCHAR) question= How many directors directed episode 3 of the season? Assistant:select count(DIRECTED_BY) from TABLE_23097214_1 where SEASON__NUMBER = 3<eos>\n",
      "1700 7144 0.011713534593582153 0.0024730374570935965 4.139477729797363 0\n",
      "Human: context= CREATE TABLE table_27715173_2 (game INTEGER) question= What is the maximum basketball game? Assistant:select max(GAME) from TABLE_27715173_2<eos>\n",
      "1800 7144 0.006136044859886169 0.0009432307560928166 4.084751129150391 0\n",
      "Human: context= CREATE TABLE table_18600760_7 (pop__2010_ VARCHAR, county VARCHAR, geo_id VARCHAR) question= In Cavalier County and the geo id is larger than 3801931620.0, what is the population? Assistant:select count(POPULATION__2010_) from TABLE_18600760_7 where COUNTY = \"sOUTH80.0\" and COUNTY = \"cONGOING\"<eos>\n",
      "1900 7144 -0.01788262650370598 0.0013151398161426187 4.176419258117676 0\n",
      "Human: context= CREATE TABLE table_name_75 (team VARCHAR, seed VARCHAR, notes VARCHAR) question= What team with a seed value greater than 7 has a note that they were an NCRAA champion? Assistant:select TEAM from TABLE_NAME_75 where NOTES = \"SOUTHERN\" and NOTES = \"SOUTHERN\"<eos>\n",
      "2000 7144 0.01859312690794468 0.0027654387522488832 4.187028408050537 0\n",
      "Human: context= CREATE TABLE table_name_37 (source VARCHAR, desus VARCHAR) question= What is the source for 7% DeSUS? Assistant:select SOURCE from TABLE_NAME_37 where LARGEST = \"7%\"<eos>\n",
      "2100 7144 -0.02082066237926483 0.005271262489259243 4.190070629119873 0\n",
      "Human: context= CREATE TABLE INVESTORS (Investor_details VARCHAR) question= Show all investor details. Assistant:select Investor_DETAILS from WEATHER where cOMPANY_DETAILS = 'aNDIANA rOORER\"<eos>\n",
      "2200 7144 0.013413171283900738 0.0030027597676962614 4.020583629608154 0\n",
      "Human: context= CREATE TABLE table_11178271_1 (weekly_rank VARCHAR, air_date VARCHAR) question= What is the weekly rank with an air date is november 12, 2007? Assistant:select count(ORIGINAL_RANK) from TABLE_11178271_1 where AIR_DATE = \"jANUARY 12, 2007\"<eos>\n",
      "2300 7144 0.010381832718849182 0.003081707749515772 4.104404449462891 0\n",
      "Human: context= CREATE TABLE stadium (LOCATION VARCHAR, name VARCHAR, capacity INTEGER) question= Show location and name for all stadiums with a capacity between 5000 and 10000. Assistant:select location from STADIUM where NAME = \"sOUTHERN\" and CAPACITY > 5000 and CAPACITY = 100000<eos>\n",
      "2400 7144 -0.02097434177994728 0.004672617185860872 4.168237209320068 0\n",
      "Human: context= CREATE TABLE table_name_95 (enrollment VARCHAR, _number___county VARCHAR, ihsaa_class VARCHAR) question= What's the total enrollment in 57 Noble having a # and AA as the IHSAA Class? Assistant:select count(ENROLLMENT_CLASS) from TABLE_NAME_95 where IHSAA_CLASS = 57 and _NUMBER_CLASS = \"D\"<eos>\n",
      "2500 7144 0.01924663595855236 0.006188157945871353 4.154391765594482 0\n",
      "Human: context= CREATE TABLE table_name_22 (year VARCHAR, gauge VARCHAR) question= In what Year is the Gauge 2 ft 6 in? Assistant:select YEAR from TABLE_NAME_22 where CHASSIS = \"2 OCTOBER 6\"<eos>\n"
     ]
    },
    {
     "name": "stdout",
     "output_type": "stream",
     "text": [
      "2600 7144 -0.001319731236435473 0.0007735553081147373 4.113719940185547 0\n",
      "Human: context= CREATE TABLE table_name_89 (player VARCHAR, to_par VARCHAR, score VARCHAR) question= What player has a To Par of +1 with a score of 71-67-73=211? Assistant:select PLAYER from TABLE_NAME_89 where TO_PAR = \"+1-673\" and SCORE = 71 - 67 - 73 = 211<eos>\n",
      "2700 7144 -0.007414973806589842 0.0006106102373450994 4.163166046142578 0\n",
      "Human: context= CREATE TABLE table_2668378_5 (first_elected VARCHAR, district VARCHAR) question= Name the first elected for kentucky 1 Assistant:select FIRST_ELECTED from TABLE_2668378_5 where DISTRICT = \"sOUTH cOLINA 1\"<eos>\n",
      "2800 7144 0.01927090622484684 0.007004295010119677 4.184329986572266 0\n",
      "Human: context= CREATE TABLE table_name_79 (ihsaa_football_class VARCHAR, ihsaa_class VARCHAR, location VARCHAR) question= Which IHSAA Football Class has a IHSAA Class of aaa, and a Location of nashville? Assistant:select IHSAA_CLASS from TABLE_NAME_79 where IHSAA_CLASS = \"KESPERSON\" and LOCATION = \"KESPERSON\"<eos>\n",
      "2900 7144 0.010278414003551006 0.002104800892993808 4.136397361755371 0\n",
      "Human: context= CREATE TABLE table_27547668_4 (directed_by VARCHAR, written_by VARCHAR) question= what is the total number of films directy and written by john callaghan? Assistant:select count(DIRECTED_BY) from TABLE_27547668_4 where WRITTEN_BY = \"jOHN rOODELONG\"<eos>\n",
      "3000 7144 -0.0009443144081160426 0.0009568063542246819 4.095536708831787 0\n",
      "Human: context= CREATE TABLE table_name_89 (completions VARCHAR, attempts VARCHAR) question= Which Completions has Attempts of 1,271? Assistant:select count(GEO = \"1R\"<eos>\n",
      "3100 7144 0.013416470028460026 0.00731436163187027 4.1590776443481445 0\n",
      "Human: context= CREATE TABLE table_28188239_1 (incumbent VARCHAR, district VARCHAR) question= Who is the incumbent of district pa-8? Assistant:select INCUMBENT from TABLE_28188239_1 where DISTRICT = \"sOUTH cOL8\"<eos>\n",
      "3200 7144 -0.020012477412819862 0.002529310993850231 4.173160076141357 0\n",
      "Human: context= CREATE TABLE table_name_9 (games INTEGER, lost VARCHAR, points VARCHAR) question= What is the highest number of games with 1 loss and points less than 18? Assistant:select max(GAMES) from TABLE_NAME_9 where LOST = 18 and POINTS < 18<eos>\n",
      "3300 7144 0.004584334325045347 0.0016465961234644055 4.168578147888184 0\n",
      "Human: context= CREATE TABLE table_name_68 (points INTEGER, drawn INTEGER) question= What is the average points when the drawn is less than 0? Assistant:select avg(POINTS) from TABLE_NAME_68 where DRAWN < 0<eos>\n",
      "3400 7144 -0.028890177607536316 0.006516136694699526 4.187713146209717 0\n",
      "Human: context= CREATE TABLE table_name_3 (manager VARCHAR, fund VARCHAR) question= Who is the manager for FMC Corporation pension fund? Assistant:select MANAGER from TABLE_NAME_3 where CALLBACKER = \"JASON\"<eos>\n",
      "3500 7144 -0.013225489296019077 0.0012782816775143147 4.155744552612305 0\n",
      "Human: context= CREATE TABLE table_name_99 (score VARCHAR, tie_no VARCHAR) question= What is the score if the Tie no is 32? Assistant:select SCORE from TABLE_NAME_99 where TIE_NO = \"32\"<eos>\n",
      "3600 7144 -0.032128289341926575 0.011821199208498001 4.181354999542236 0\n",
      "Human: context= CREATE TABLE table_name_83 (result VARCHAR, first_elected VARCHAR, incumbent VARCHAR) question= What was the result of W. Jasper Talbert who was first elected in 1892? Assistant:select RESULT from TABLE_NAME_83 where FIRST_ELECTED = \"1892\" and INCUMB = \"1892\"<eos>\n",
      "3700 7144 -0.08179033547639847 0.03207668662071228 4.187934875488281 0\n",
      "Human: context= CREATE TABLE table_name_91 (match VARCHAR, points VARCHAR) question= What match had 8 points? Assistant:select MATCHES from TABLE_NAME_91 where POINTS = 8<eos>\n",
      "3800 7144 0.01313706673681736 0.010377227328717709 4.181145191192627 0\n",
      "Human: context= CREATE TABLE table_name_14 (type VARCHAR, name VARCHAR) question= Which Type has a Name of edson ratinho? Assistant:select TYPE from TABLE_NAME_14 where NAME = \"JASON RICHARDSON\"<eos>\n",
      "3900 7144 -0.004606692586094141 0.0005606101476587355 4.15211820602417 0\n",
      "Human: context= CREATE TABLE table_15400878_1 (against INTEGER, team VARCHAR) question= Name the most against for minas gerais Assistant:select max(AGAINST) from TABLE_15400878_1 where TEAM = \"sOUTH cOLLEGE\"<eos>\n",
      "4000 7144 0.007584892213344574 0.002046970883384347 4.195570945739746 0\n",
      "Human: context= CREATE TABLE table_name_49 (to_par VARCHAR, place VARCHAR, player VARCHAR) question= What to par has t5 as the place, with larry mize as the player? Assistant:select TO_PAR from TABLE_NAME_49 where PLACE = \"T5\" and PLAYER = \"T5\"<eos>\n",
      "4100 7144 0.006736652925610542 0.001275482471100986 4.184048652648926 0\n",
      "Human: context= CREATE TABLE table_name_7 (country VARCHAR, finish VARCHAR) question= What country had a finish of t49? Assistant:select COUNTRY from TABLE_NAME_7 where FINISH = \"T49\"<eos>\n",
      "4200 7144 0.009622202254831791 0.004370395094156265 4.191262245178223 0\n",
      "Human: context= CREATE TABLE table_name_13 (away_team VARCHAR) question= What is the Away team score for Away team North Melbourne? Assistant:select AWAY_TEAM as SCORE from TABLE_NAME_13 where AWAY_TEAM = \"SOUTH MELBOURNE\"<eos>\n",
      "4300 7144 -0.013859414495527744 0.0009650306310504675 4.154226303100586 0\n",
      "Human: context= CREATE TABLE table_18159601_1 (greek_designation VARCHAR, city VARCHAR) question= how mnay greek designation  in tampa Assistant:select count(OTHERS_DESIGNATION) from TABLE_18159601_1 where CITY = \"sOUTH cOLLEGE\"<eos>\n",
      "4400 7144 0.00920200627297163 0.0015245085814967752 4.180723190307617 0\n",
      "Human: context= CREATE TABLE table_name_13 (country VARCHAR, place VARCHAR, player VARCHAR) question= WHAT COUNTRY HAS A T7 PLACE, WITH IAN WOOSNAM? Assistant:select COUNTRY from TABLE_NAME_13 where PLACE = \"T7\" and PLAYER = \"T77\"<eos>\n",
      "4500 7144 -0.027828533202409744 0.01981833390891552 4.154745101928711 0\n",
      "Human: context= CREATE TABLE table_11240028_3 (last_appearance VARCHAR, character VARCHAR) question= What episode was the last appearance of the character, rikki sandoval? Assistant:select LAST_FINAL_SE from TABLE_11240028_3 where CHARACTER = \"sOUTHERN mO\"<eos>\n",
      "4600 7144 0.003086245618760586 0.0010700519196689129 4.10537052154541 0\n",
      "Human: context= CREATE TABLE table_23575917_4 (davids_team VARCHAR, lees_team VARCHAR) question= Who is on the David's Team for the episode with the Lees Team of Jack Dee and Peter Serafinowicz Assistant:select AWAY_TEAM from TABLE_23575917_4 where TEAM_TEAM = \"jOHN rOBERT hE\"<eos>\n",
      "4700 7144 0.009445504285395145 0.0008656323770992458 4.191413879394531 0\n",
      "Human: context= CREATE TABLE table_name_36 (round VARCHAR, match VARCHAR) question= Name the round for 2nd elimination final Assistant:select ROUND from TABLE_NAME_36 where MATCHES = \"2ND\"<eos>\n",
      "4800 7144 0.014718282967805862 0.0017136327223852277 4.198825359344482 0\n",
      "Human: context= CREATE TABLE table_name_23 (date VARCHAR, result VARCHAR) question= When was the match with a result of sa by 10 wkts? Assistant:select DATE from TABLE_NAME_23 where RESULT = \"10\"<eos>\n",
      "4900 7144 0.00325877801515162 0.0016048981342464685 4.167908668518066 0\n",
      "Human: context= CREATE TABLE table_11603267_1 (tournament VARCHAR, location VARCHAR) question= Name the tournament for arizona Assistant:select TOURNAMENT from TABLE_11603267_1 where LOCATION = \"sOUTH cOLLEGE\"<eos>\n",
      "5000 7144 -0.011373324319720268 0.0006904614856466651 4.132554054260254 0\n",
      "Human: context= CREATE TABLE table_1805191_36 (results VARCHAR, incumbent VARCHAR) question= What are the results of those elections for which Marcy Kaptur is the incumbent? Assistant:select RESULTS from TABLE_1805191_36 where INCUMBENT = \"sOUTH cOLLEGE\"<eos>\n",
      "5100 7144 -0.004320682492107153 0.004275229759514332 4.108498573303223 0\n",
      "Human: context= CREATE TABLE table_10015132_16 (school_club_team VARCHAR, player VARCHAR) question= how many schools or teams had jalen rose Assistant:select count(SCHOOL_CLUB_TEAM) from TABLE_10015132_16 where PLAYER = \"sOUTH cOLLEGE\"<eos>\n",
      "5200 7144 -0.012633048929274082 0.0006736826617270708 4.157470226287842 0\n",
      "Human: context= CREATE TABLE table_name_50 (home_team VARCHAR, date VARCHAR) question= what team played on may 20 on the home side Assistant:select HOME_TEAM from TABLE_NAME_50 where DATE = \"MAY 20\"<eos>\n",
      "5300 7144 0.035845350474119186 0.0076484777964651585 4.175987243652344 0\n",
      "Human: context= CREATE TABLE table_name_65 (away_team VARCHAR, ground VARCHAR) question= Which Away team has a Ground of gabba? Assistant:select AWAY_TEAM from TABLE_NAME_65 where GROUND = \"MCMASTER\"<eos>\n"
     ]
    },
    {
     "name": "stdout",
     "output_type": "stream",
     "text": [
      "5400 7144 0.0008819122449494898 0.000703799887560308 4.171140670776367 0\n",
      "Human: context= CREATE TABLE table_name_58 (to_par VARCHAR, score VARCHAR, country VARCHAR) question= What is Top Par, when Score is less than 68, and when Country is England? Assistant:select TO_PAR from TABLE_NAME_58 where SCORE < 68 and COUNTRY = \"UNITED STATES\"<eos>\n",
      "5500 7144 0.03388778865337372 0.003403476672247052 4.012670516967773 0\n",
      "Human: context= CREATE TABLE table_25800134_17 (writer_s_ VARCHAR, airdate VARCHAR) question= Who was the writer who wrote the episode that was aired on September 11, 1972? Assistant:select WRITER_S_ from TABLE_25800134_17 where AIRDATE = \"sOUTH cOL 11, 1972\"<eos>\n",
      "5600 7144 0.01309040654450655 0.0009383222204633057 4.168878555297852 0\n",
      "Human: context= CREATE TABLE table_24765815_1 (player VARCHAR, opponent VARCHAR) question= Which player had an opponent of Blackburn Rovers? Assistant:select PLAYER from TABLE_24765815_1 where OPPONENT = \"jANUARY\"<eos>\n",
      "5700 7144 -0.01511343289166689 0.0012622616486623883 4.151322841644287 0\n",
      "Human: context= CREATE TABLE Students (date_of_latest_logon VARCHAR, family_name VARCHAR) question= What are the dates of the latest logon of the students with family name \"Jaskolski\" or \"Langosh\"? Assistant:select DATE_OF_TRANSACTION from cUSTOMERS_CARDS group by DATE_OF_THE_CHURCH = \"jANUARY\"<eos>\n",
      "5800 7144 0.02465866506099701 0.0010304320603609085 4.120692253112793 0\n",
      "Human: context= CREATE TABLE table_14951643_1 (record VARCHAR, result VARCHAR) question= what's the record with result being w 52–19 Assistant:select RECORD from TABLE_14951643_1 where RESULT = \"w 52–19\"<eos>\n",
      "5900 7144 0.006044365931302309 0.0008850267040543258 4.0639214515686035 0\n",
      "Human: context= CREATE TABLE table_name_17 (north_american_release_date VARCHAR, japanese_release_date VARCHAR) question= What is North American Release Date, when Japanese Release Date is \"2011-06-23\"? Assistant:select DATE_DATE_S_ = \"2011-06-06-23\"<eos>\n",
      "6000 7144 0.007776297628879547 0.003218402387574315 4.175350666046143 0\n",
      "Human: context= CREATE TABLE table_name_94 (total INTEGER, bronze VARCHAR, silver VARCHAR) question= What is the average total medals of the nation with 4 bronze and more than 1 silver medals? Assistant:select avg(TOTAL) from TABLE_NAME_94 where BRONZE = 4 and SILVER = 1<eos>\n",
      "6100 7144 -0.013140668161213398 0.0008142577717080712 4.198575496673584 0\n",
      "Human: context= CREATE TABLE table_name_63 (position VARCHAR, college VARCHAR) question= what is the position of the player from florida? Assistant:select POSITION from TABLE_NAME_63 where COLLEGE = \"GEELONG\"<eos>\n",
      "6200 7144 -0.0011395278852432966 0.0008432745817117393 4.095191478729248 0\n",
      "Human: context= CREATE TABLE table_20174050_24 (format VARCHAR, author VARCHAR) question= how many formats of books authored by day, martin martin day Assistant:select count( format) from TABLE_20174050_24 where AUTHOR = \"sOUTH cOLLEGE, cOLLEGE\"<eos>\n",
      "6300 7144 -0.007391225080937147 0.0005553985247388482 4.155735015869141 0\n",
      "Human: context= CREATE TABLE table_2219961_2 (season__number INTEGER, director VARCHAR) question= What is the latest season number that Eric Tuchman directed?  Assistant:select max(SEASON__NUMBER) from TABLE_2219961_2 where DIRECTOR = \"cONGOING\"<eos>\n",
      "6400 7144 -0.0003227516426704824 0.005639913957566023 4.141046524047852 0\n",
      "Human: context= CREATE TABLE table_28848697_4 (year VARCHAR, tied VARCHAR) question= What is the year listed when tied is listed as 11? Assistant:select YEAR from TABLE_28848697_4 where TIED = 11<eos>\n",
      "6500 7144 -0.02831549011170864 0.0015151550760492682 4.187631607055664 0\n",
      "Human: context= CREATE TABLE table_name_6 (score VARCHAR, opponent VARCHAR, record VARCHAR) question= What was score of the Blue Jays' game versus the Indians when their record was 21-19? Assistant:select SCORE from TABLE_NAME_6 where OPPONENT = \"NEW YORK RANGERS\" and RECORD = \"21-19\"<eos>\n",
      "6600 7144 0.010994329117238522 0.002336612669751048 4.1797285079956055 0\n",
      "Human: context= CREATE TABLE table_name_82 (save VARCHAR, opponent VARCHAR, date VARCHAR) question= What is the save when Yankees are the opponents on July 25? Assistant:select SAVE from TABLE_NAME_82 where OPPONENT = \"JIMMY DAME\" and DATE = \"JULY 25\"<eos>\n",
      "6700 7144 -0.04600464552640915 0.003498871810734272 4.152067184448242 0\n",
      "Human: context= CREATE TABLE table_name_95 (rd_3 VARCHAR, rd_2_1 VARCHAR) question= What Rd 3 has a Rd 2 1 of 0+1? Assistant:select count(RD_3) from TABLE_NAME_95 where RD_2 = \"0\"<eos>\n",
      "6800 7144 -0.02111319825053215 0.005501039791852236 4.138665199279785 0\n",
      "Human: context= CREATE TABLE table_name_59 (average INTEGER, games VARCHAR, w_l_t VARCHAR, season VARCHAR) question= Which Average that has a W-L-T of 5-1, and a Season smaller than 2001, and Games smaller than 6? Assistant:select max(AVERAGE) from TABLE_NAME_59 where GAMES = 5 and SEASON < 2001 and SEASON = 6<eos>\n",
      "6900 7144 0.0004552222671918571 0.0011622136225923896 4.168457984924316 0\n",
      "Human: context= CREATE TABLE table_name_50 (film_name VARCHAR, music_director VARCHAR, lyricist VARCHAR, year VARCHAR, language VARCHAR) question= What 1972 Hindi film had Ravindra Jain directing the music? Assistant:select FILM_NAME from TABLE_NAME_50 where LANGUAGE = \"JIMMY\" and YEAR = 1972 and LANGUAGE = \"KESPERSON\"<eos>\n",
      "7000 7144 -0.001924787531606853 0.0019075287273153663 4.127522945404053 0\n",
      "Human: context= CREATE TABLE table_name_95 (genre VARCHAR, number_of_episodes VARCHAR, english_title__chinese_title_ VARCHAR) question= What genre has over 20 episodes, with an English title (Chinese title) of wong fei hung - master of kung fu 我師傅係黃飛鴻? Assistant:select GENRE__MARKET from TABLE_NAME_95 where NUMBER_OF_TITLE__MARKET = \"200CCANEERS\" and NUMBER_OF_EPISODE = \"JIMMY DAME\"<eos>\n",
      "7100 7144 -0.009866553358733654 0.0036835442297160625 4.190948486328125 0\n",
      "Human: context= CREATE TABLE table_name_85 (attendance INTEGER, opponent VARCHAR) question= What was the lowest attendance for a game played @ Nashville Predators? Assistant:select min(ATTENDANCE) from TABLE_NAME_85 where OPPONENT = \"NEW YORK RANGERS\"<eos>\n"
     ]
    }
   ],
   "source": [
    "for i, data in enumerate(loader):\n",
    "    #生成数据\n",
    "    (generate, generate_mask, prob_old, prob_ref, value_old,\n",
    "     reward) = get_batch(**data)\n",
    "\n",
    "    #训练\n",
    "    loss_actor, loss_critic = train(generate, generate_mask, prob_old,\n",
    "                                    prob_ref, value_old, reward)\n",
    "\n",
    "    if i % 100 == 0:\n",
    "        print(i, len(loader), loss_actor, loss_critic, reward[0].item(),\n",
    "              cache_count)\n",
    "\n",
    "        #print(tokenizer.decode(generate[0, prompt_lens:]))\n",
    "        start = generate[0].tolist().index(tokenizer.bos_token_id) + 1\n",
    "        print(tokenizer.decode(generate[0, start:]))\n",
    "\n",
    "torch.save(model_actor.to('cpu'), 'model/rlhf')"
   ]
  }
 ],
 "metadata": {
  "kernelspec": {
   "display_name": "Python [conda env:cuda117]",
   "language": "python",
   "name": "conda-env-cuda117-py"
  },
  "language_info": {
   "codemirror_mode": {
    "name": "ipython",
    "version": 3
   },
   "file_extension": ".py",
   "mimetype": "text/x-python",
   "name": "python",
   "nbconvert_exporter": "python",
   "pygments_lexer": "ipython3",
   "version": "3.10.13"
  }
 },
 "nbformat": 4,
 "nbformat_minor": 5
}

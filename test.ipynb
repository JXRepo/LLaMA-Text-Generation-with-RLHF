{
 "cells": [
  {
   "cell_type": "code",
   "execution_count": 1,
   "id": "11abe3e8",
   "metadata": {},
   "outputs": [
    {
     "data": {
      "text/plain": [
       "(tensor([   0,    0,    2, 1139,  708,  692]),\n",
       " tensor([0, 0, 1, 1, 1, 1]),\n",
       " '<pad><pad><bos>how are you')"
      ]
     },
     "execution_count": 1,
     "metadata": {},
     "output_type": "execute_result"
    }
   ],
   "source": [
    "import torch\n",
    "import random\n",
    "import math\n",
    "\n",
    "from util import TokenizerUtil\n",
    "\n",
    "tokenizer = TokenizerUtil()\n",
    "\n",
    "input_ids, _ = tokenizer.encode('how are you', max_length=6)\n",
    "\n",
    "input_ids, attention_mask = tokenizer.pad_to_left(input_ids)\n",
    "\n",
    "input_ids, attention_mask, tokenizer.decode(input_ids)"
   ]
  },
  {
   "cell_type": "code",
   "execution_count": 2,
   "id": "780596d8",
   "metadata": {},
   "outputs": [
    {
     "data": {
      "text/plain": [
       "(16,\n",
       " {'prompt': 'Human: context= CREATE TABLE table_name_62 (roll VARCHAR, decile VARCHAR, name VARCHAR) question= What is the roll number of Te Puke Intermediate, which has a decile of 4? Assistant:',\n",
       "  'chosen': 'SELECT roll FROM table_name_62 WHERE decile = 4 AND name = \"te puke intermediate\"',\n",
       "  'rejected': '',\n",
       "  'response': 'SELECT roll FROM table_name_62 WHERE decile = 4 AND name = \"te puke intermediate\"'})"
      ]
     },
     "execution_count": 2,
     "metadata": {},
     "output_type": "execute_result"
    }
   ],
   "source": [
    "import json\n",
    "\n",
    "with open('dataset/eval.json') as f:\n",
    "    lines = f.readlines()\n",
    "\n",
    "lines = random.sample(lines, k=16)\n",
    "lines = [json.loads(i) for i in lines]\n",
    "\n",
    "len(lines), lines[0]"
   ]
  },
  {
   "cell_type": "code",
   "execution_count": 3,
   "id": "ad8bfaf5",
   "metadata": {},
   "outputs": [],
   "source": [
    "# %run 1.model.ipynb\n",
    "%run 1.model_gemma2.ipynb\n",
    "\n",
    "model_actor = torch.load('model/rlhf').to('cuda')"
   ]
  },
  {
   "cell_type": "code",
   "execution_count": 4,
   "id": "2ceb369d",
   "metadata": {},
   "outputs": [
    {
     "name": "stdout",
     "output_type": "stream",
     "text": [
      "select count(ROLL) from TABLE_NAME_62 where DECILE = 4 and NAME = \"4\"<eos>\n",
      "SELECT roll FROM table_name_62 WHERE decile = 4 AND name = \"te puke intermediate\"\n",
      "===============\n",
      "select sum(POINTS) from TABLE_NAME_37 where TEAM_AGAINST = \"SOUTH CAROLINA\" and TRIES_AGAINST < 8<eos>\n",
      "SELECT SUM(points_against) FROM table_name_37 WHERE team = \"harlequins\" AND tries_against < 8\n",
      "===============\n",
      "select max(GRID) from TABLE_NAME_80 where TIME = \"+44.866\" and LAPS > 25<eos>\n",
      "SELECT MAX(grid) FROM table_name_80 WHERE time = \"+44.866\" AND laps > 25\n",
      "===============\n",
      "select count(OTHERS_PASSENGERS) from TABLE_13836704_6 where AIRPORT = \"cHARLES bO\"<eos>\n",
      "SELECT transit_passengers FROM table_13836704_6 WHERE airport = \"London Gatwick\"\n",
      "===============\n",
      "select TITLE from TABLE_NAME_64 where DATE = \"2009\"<eos>\n",
      "SELECT title FROM table_name_64 WHERE released = 2009\n",
      "===============\n",
      "select min(SCORER_) from TABLE_NAME_91 where REGION__MARKET_ = \"31990\" and REGION__MARKET_ = \"NEW YORK RANG\"<eos>\n",
      "SELECT channels___analog___digital__ FROM table_name_91 WHERE first_air_date = \"31 december 1990\" AND region_served = \"southern downs\"\n",
      "===============\n",
      "select OPPONENT from TABLE_NAME_11 where ATTENDANCE = 526<eos>\n",
      "SELECT opponent FROM table_name_11 WHERE attendance = 526\n",
      "===============\n",
      "select avg(RANK) from TABLE_NAME_9 where BRONZE > 0<eos>\n",
      "SELECT AVG(rank) FROM table_name_9 WHERE bronze < 0\n",
      "===============\n",
      "select sum(ATTENDANCE) from TABLE_NAME_23 where HOME = \"MCG\"<eos>\n",
      "SELECT SUM(attendance) FROM table_name_23 WHERE home = \"calgary\"\n",
      "===============\n",
      "select count(RANK) from TABLE_NAME_14 where POINTS > 24 and POINTS > 249<eos>\n",
      "SELECT MAX(2 AS nd__m_) FROM table_name_14 WHERE rank > 2 AND points > 249.3\n",
      "===============\n",
      "select count(MUNICIPALITY) from TABLE_1216675_1 where CHINESE = \"sOUTHERN\"<eos>\n",
      "SELECT COUNT(pinyin) FROM table_1216675_1 WHERE chinese = \"釋蟲\"\n",
      "===============\n",
      "select HOME from TABLE_NAME_57 where POINTS = \"JANUARY 23\" and DATE = \"MAY 23\"<eos>\n",
      "SELECT home FROM table_name_57 WHERE points = 23 AND date = \"january 2\"\n",
      "===============\n",
      "select CONSTRUCTOR from TABLE_NAME_89 where CONSTRUCTOR = \"JASON\" and POLE_POSITION = \"D\"<eos>\n",
      "SELECT constructor FROM table_name_89 WHERE tyre = \"c\" AND pole_position = \"eugenio castellotti\"\n",
      "===============\n",
      "select DATE from TABLE_NAME_8 where HIGH_POINTS = \"33–13\" and RECORD = \"33–13\"<eos>\n",
      "SELECT date FROM table_name_8 WHERE high_points = \"suns\" AND record = \"33–13\"\n",
      "===============\n",
      "select DECLINATION___J from TABLE_NAME_73 where GDP___JASON = \"1/A\" and OTHERS = \"5/A\" and OTHERS = \"5/A\"<eos>\n",
      "SELECT np___nnp FROM table_name_73 WHERE acdp = 1 AND others = 1 AND dp___da = 5\n",
      "===============\n",
      "select SCORE from TABLE_NAME_13 where OPPONENT = \"NEW YORK GENDER\"<eos>\n",
      "SELECT score FROM table_name_13 WHERE opponent = \"tampa bay lightning\"\n",
      "===============\n"
     ]
    }
   ],
   "source": [
    "from util import get_generate\n",
    "\n",
    "for data in lines:\n",
    "    input_ids, _ = tokenizer.encode(data['prompt'], max_length=128)\n",
    "    input_ids, attention_mask = tokenizer.pad_to_left(input_ids)\n",
    "\n",
    "    input_ids = input_ids.unsqueeze(0).to('cuda')\n",
    "    attention_mask = attention_mask.unsqueeze(0).to('cuda')\n",
    "\n",
    "    generate = get_generate(model_actor,\n",
    "                            input_ids,\n",
    "                            tokenizer.eos_token_id,\n",
    "                            tokenizer.pad_token_id,\n",
    "                            max_length=256)\n",
    "\n",
    "    generate = generate[0, 128:].to('cpu')\n",
    "\n",
    "    print(tokenizer.decode(generate))\n",
    "    print(data['chosen'])\n",
    "    print('===============')"
   ]
  }
 ],
 "metadata": {
  "kernelspec": {
   "display_name": "Python [conda env:cuda117]",
   "language": "python",
   "name": "conda-env-cuda117-py"
  },
  "language_info": {
   "codemirror_mode": {
    "name": "ipython",
    "version": 3
   },
   "file_extension": ".py",
   "mimetype": "text/x-python",
   "name": "python",
   "nbconvert_exporter": "python",
   "pygments_lexer": "ipython3",
   "version": "3.10.13"
  }
 },
 "nbformat": 4,
 "nbformat_minor": 5
}
